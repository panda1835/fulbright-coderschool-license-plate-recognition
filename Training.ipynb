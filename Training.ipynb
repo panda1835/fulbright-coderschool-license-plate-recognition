{
 "cells": [
  {
   "cell_type": "code",
   "execution_count": 1,
   "metadata": {},
   "outputs": [],
   "source": [
    "import cv2\n",
    "import os \n",
    "import matplotlib.pyplot as plt\n",
    "import numpy as np\n",
    "import pandas as pd\n",
    "import seaborn as sns\n",
    "import pickle \n",
    "%matplotlib inline"
   ]
  },
  {
   "cell_type": "code",
   "execution_count": 5,
   "metadata": {},
   "outputs": [],
   "source": [
    "# Test file\n",
    "test_data = []\n",
    "test_label = []\n",
    "test_path = os.path.join(pwd[0],'DataSample','TestSet')\n",
    "for filename in os.listdir(test_path):\n",
    "    imr = cv2.imread(os.path.join(test_path,filename))\n",
    "    im = np.zeros(imr.shape[:2])\n",
    "    im = imr[:,:,2]\n",
    "    im = cv2.resize(im, (12,28))\n",
    "    test_data.append(im)\n",
    "    \n",
    "test_data = np.array(test_data)\n",
    "test_label = np.array(test_label)\n",
    "\n",
    "# flatten\n",
    "test_data_flat = test_data.reshape(len(test_data),-1)\n",
    "# normalization\n",
    "test_data_flat = test_data_flat/255"
   ]
  },
  {
   "cell_type": "code",
   "execution_count": 2,
   "metadata": {},
   "outputs": [
    {
     "name": "stdout",
     "output_type": "stream",
     "text": [
      "Train dataset size: (3127, 1800)\n",
      "Train label dataset size: (3127,)\n"
     ]
    }
   ],
   "source": [
    "from sklearn.model_selection import train_test_split \n",
    "train_data = []\n",
    "train_label = []\n",
    "\n",
    "pwd = !pwd\n",
    "train_path = os.path.join(pwd[0],'DataSample','charTrainsetmodified')\n",
    "\n",
    "for label in os.listdir(train_path):\n",
    "    folder = os.path.join(train_path, label)\n",
    "    for filename in os.listdir(folder):\n",
    "        train_label.append(label)\n",
    "        imr = cv2.imread(os.path.join(folder,filename))\n",
    "        im = np.zeros(imr.shape[:2])\n",
    "        im = imr[:,:,2]\n",
    "        im = cv2.resize(im, (30,60))\n",
    "#         im = cv2.erode(im, np.ones((2,2)),iterations = 2)\n",
    "        train_data.append(im)\n",
    "    \n",
    "train_data = np.array(train_data)\n",
    "# train_label = np.array(train_label, dtype = np.int8)\n",
    "train_label = np.array(train_label)\n",
    "\n",
    "# flatten\n",
    "train_data_flat = train_data.reshape(len(train_data),-1)\n",
    "\n",
    "# normalization\n",
    "train_data_flat = train_data_flat/255\n",
    "\n",
    "print(f'Train dataset size: {train_data_flat.shape}')\n",
    "print(f'Train label dataset size: {train_label.shape}')"
   ]
  },
  {
   "cell_type": "code",
   "execution_count": 3,
   "metadata": {},
   "outputs": [
    {
     "data": {
      "text/plain": [
       "'L'"
      ]
     },
     "execution_count": 3,
     "metadata": {},
     "output_type": "execute_result"
    },
    {
     "data": {
      "image/png": "[encoded data removed]",
      "text/plain": [
       "<Figure size 432x288 with 1 Axes>"
      ]
     },
     "metadata": {
      "needs_background": "light"
     },
     "output_type": "display_data"
    }
   ],
   "source": [
    "# test\n",
    "i = np.random.randint(0,len(train_data))\n",
    "plt.imshow(train_data[i].reshape(60,30),cmap = 'gray')\n",
    "train_label[i]"
   ]
  },
  {
   "cell_type": "markdown",
   "metadata": {},
   "source": [
    "## 2.3 Train model"
   ]
  },
  {
   "cell_type": "code",
   "execution_count": 5,
   "metadata": {},
   "outputs": [],
   "source": [
    "from sklearn.svm import SVC\n",
    "from sklearn.linear_model import SGDClassifier\n",
    "from sklearn.metrics import accuracy_score, confusion_matrix\n",
    "from sklearn.model_selection import cross_val_score, GridSearchCV"
   ]
  },
  {
   "cell_type": "code",
   "execution_count": 24,
   "metadata": {},
   "outputs": [
    {
     "name": "stdout",
     "output_type": "stream",
     "text": [
      "Fitting 5 folds for each of 15 candidates, totalling 75 fits\n"
     ]
    },
    {
     "name": "stderr",
     "output_type": "stream",
     "text": [
      "[Parallel(n_jobs=-1)]: Using backend LokyBackend with 4 concurrent workers.\n",
      "[Parallel(n_jobs=-1)]: Done  42 tasks      | elapsed:    3.1s\n",
      "[Parallel(n_jobs=-1)]: Done  75 out of  75 | elapsed:    4.5s finished\n"
     ]
    },
    {
     "data": {
      "text/plain": [
       "GridSearchCV(cv=5, error_score=nan,\n",
       "             estimator=SVC(C=1.0, break_ties=False, cache_size=200,\n",
       "                           class_weight=None, coef0=0.0,\n",
       "                           decision_function_shape='ovr', degree=3,\n",
       "                           gamma='scale', kernel='rbf', max_iter=-1,\n",
       "                           probability=False, random_state=None, shrinking=True,\n",
       "                           tol=0.001, verbose=False),\n",
       "             iid='deprecated', n_jobs=-1,\n",
       "             param_grid=[{'C': [0.01, 0.1, 1, 10, 100],\n",
       "                          'gamma': [0.01, 0.001, 0.0001]}],\n",
       "             pre_dispatch='2*n_jobs', refit=True, return_train_score=True,\n",
       "             scoring='accuracy', verbose=1)"
      ]
     },
     "execution_count": 24,
     "metadata": {},
     "output_type": "execute_result"
    }
   ],
   "source": [
    "hyper_params = [{'gamma':[1e-2,1e-3,1e-4],\n",
    "                 'C':[0.01,0.1,1,10,100]}]\n",
    "\n",
    "model = SVC(kernel = 'rbf')\n",
    "\n",
    "model_cv = GridSearchCV(estimator = model,\n",
    "                        param_grid = hyper_params,\n",
    "                        scoring = 'accuracy',\n",
    "                        n_jobs = -1,\n",
    "                        cv = 5,\n",
    "                        verbose = 1,\n",
    "                        return_train_score=True)\n",
    "\n",
    "model_cv.fit(train_data_flat, train_label)"
   ]
  },
  {
   "cell_type": "code",
   "execution_count": 25,
   "metadata": {},
   "outputs": [
    {
     "name": "stdout",
     "output_type": "stream",
     "text": [
      "Best params {'C': 100, 'gamma': 0.001}\n",
      "Best accuracy 0.9872380952380952\n"
     ]
    }
   ],
   "source": [
    "print(f'Best params {model_cv.best_params_}')\n",
    "print(f'Best accuracy {model_cv.best_score_}')"
   ]
  },
  {
   "cell_type": "code",
   "execution_count": 6,
   "metadata": {},
   "outputs": [
    {
     "data": {
      "text/plain": [
       "SVC(C=1.0, break_ties=False, cache_size=200, class_weight=None, coef0=0.0,\n",
       "    decision_function_shape='ovr', degree=3, gamma='scale', kernel='rbf',\n",
       "    max_iter=-1, probability=False, random_state=None, shrinking=True,\n",
       "    tol=0.001, verbose=False)"
      ]
     },
     "execution_count": 6,
     "metadata": {},
     "output_type": "execute_result"
    }
   ],
   "source": [
    "# clf = SVC(kernel = 'rbf',C = 100, gamma = 0.001)\n",
    "clf = SVC()\n",
    "clf.fit(train_data_flat, train_label)"
   ]
  },
  {
   "cell_type": "code",
   "execution_count": 116,
   "metadata": {},
   "outputs": [
    {
     "data": {
      "image/png": "[encoded data removed]",
      "text/plain": [
       "<Figure size 1080x360 with 20 Axes>"
      ]
     },
     "metadata": {},
     "output_type": "display_data"
    }
   ],
   "source": [
    "# predict test image\n",
    "predictions = clf.predict(test_data_flat)\n",
    "\n",
    "# print(f'accuracy {accuracy_score(predictions, test_label)}')\n",
    "_, ax = plt.subplots(1,len(predictions), figsize = (15,5))\n",
    "for i in range(len(predictions)):\n",
    "    ax[i].imshow(test_data_flat[i].reshape(28,12))\n",
    "    ax[i].set_title(predictions[i])\n",
    "    ax[i].grid(False)\n",
    "    ax[i].set_xticks([])\n",
    "    ax[i].set_yticks([])"
   ]
  },
  {
   "cell_type": "code",
   "execution_count": 124,
   "metadata": {},
   "outputs": [
    {
     "name": "stdout",
     "output_type": "stream",
     "text": [
      "['Z']\n"
     ]
    }
   ],
   "source": [
    "img = cv2.cvtColor(cv2.imread('C_1.jpg'), cv2.COLOR_BGR2GRAY)\n",
    "img = cv2.resize(img, (60,30))\n",
    "print((clf.predict(img.reshape(1,-1)/255)))"
   ]
  },
  {
   "cell_type": "markdown",
   "metadata": {},
   "source": [
    "### Save model"
   ]
  },
  {
   "cell_type": "code",
   "execution_count": 7,
   "metadata": {},
   "outputs": [
    {
     "name": "stdout",
     "output_type": "stream",
     "text": [
      "model saved\n"
     ]
    }
   ],
   "source": [
    "import pickle\n",
    "pickle.dump(clf, open('character_without_prob_modified.pkl','wb'))\n",
    "print('model saved')"
   ]
  },
  {
   "cell_type": "code",
   "execution_count": null,
   "metadata": {},
   "outputs": [],
   "source": []
  },
  {
   "cell_type": "code",
   "execution_count": null,
   "metadata": {},
   "outputs": [],
   "source": []
  },
  {
   "cell_type": "code",
   "execution_count": null,
   "metadata": {},
   "outputs": [],
   "source": [
    "\n"
   ]
  },
  {
   "cell_type": "code",
   "execution_count": null,
   "metadata": {},
   "outputs": [],
   "source": []
  }
 ],
 "metadata": {
  "kernelspec": {
   "display_name": "Python 3",
   "language": "python",
   "name": "python3"
  },
  "language_info": {
   "codemirror_mode": {
    "name": "ipython",
    "version": 3
   },
   "file_extension": ".py",
   "mimetype": "text/x-python",
   "name": "python",
   "nbconvert_exporter": "python",
   "pygments_lexer": "ipython3",
   "version": "3.7.7"
  }
 },
 "nbformat": 4,
 "nbformat_minor": 4
}
